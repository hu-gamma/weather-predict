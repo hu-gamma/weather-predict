{
 "cells": [
  {
   "cell_type": "code",
   "execution_count": null,
   "id": "af9311ac",
   "metadata": {},
   "outputs": [],
   "source": [
    "from sklearn.svm import SVC,SVR\n",
    "from sklearn.pipelines import make_pipeline\n",
    "from sklearn.preprocessing import StandardScaler"
   ]
  },
  {
   "cell_type": "code",
   "execution_count": null,
   "id": "c407bb4a",
   "metadata": {},
   "outputs": [],
   "source": []
  }
 ],
 "metadata": {
  "language_info": {
   "name": "python"
  }
 },
 "nbformat": 4,
 "nbformat_minor": 5
}
