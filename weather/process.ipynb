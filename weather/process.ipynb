{
 "cells": [
  {
   "cell_type": "code",
   "execution_count": 1,
   "id": "970dd764",
   "metadata": {},
   "outputs": [],
   "source": [
    "import pandas as pd\n",
    "import numpy as np"
   ]
  },
  {
   "cell_type": "code",
   "execution_count": 2,
   "id": "89918bab",
   "metadata": {},
   "outputs": [],
   "source": [
    "df = pd.read_excel(\"dataset/58606.23.06.2020.23.06.2025.1.0.0.cn.utf8.00000000.xls\")"
   ]
  },
  {
   "cell_type": "code",
   "execution_count": 3,
   "id": "16e023fc",
   "metadata": {},
   "outputs": [],
   "source": [
    "dd_map = {\n",
    "    \"从北方吹来的风\": 0,\n",
    "    \"从东北偏北方向吹来的风\": 1,\n",
    "    \"从东北方吹来的风\": 2,\n",
    "    \"从东北偏东方向吹来的风\": 3,\n",
    "    \"从东方吹来的风\": 4,\n",
    "    \"从东南偏东方向吹来的风\": 5,\n",
    "    \"从东南方吹来的风\": 6,\n",
    "    \"从东南偏南方向吹来的风\": 7,\n",
    "    \"从南方吹来的风\": 8,\n",
    "    \"从西南偏南方向吹来的风\": 9,\n",
    "    \"从西南方吹来的风\": 10,\n",
    "    \"从西南偏西方向吹来的风\": 11,\n",
    "    \"从西方吹来的风\": 12,\n",
    "    \"从西北偏西方向吹来的风\": 13,\n",
    "    \"从西北方吹来的风\": 14,\n",
    "    \"从西北偏北方向吹来的风\": 15,\n",
    "    \"无风\": 16\n",
    "}\n",
    "df[\"DD\"] = df[\"DD\"].map(dd_map).fillna(df[\"DD\"])\n"
   ]
  },
  {
   "cell_type": "code",
   "execution_count": 4,
   "id": "fd27c42d",
   "metadata": {},
   "outputs": [],
   "source": [
    "pooled_df = df.groupby(df.index // 5).mean(numeric_only=True).reset_index(drop=True)\n"
   ]
  }
 ],
 "metadata": {
  "kernelspec": {
   "display_name": "ai-base",
   "language": "python",
   "name": "python3"
  },
  "language_info": {
   "codemirror_mode": {
    "name": "ipython",
    "version": 3
   },
   "file_extension": ".py",
   "mimetype": "text/x-python",
   "name": "python",
   "nbconvert_exporter": "python",
   "pygments_lexer": "ipython3",
   "version": "3.10.18"
  }
 },
 "nbformat": 4,
 "nbformat_minor": 5
}
