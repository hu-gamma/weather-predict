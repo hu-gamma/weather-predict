{
 "cells": [
  {
   "cell_type": "code",
   "execution_count": 13,
   "id": "970dd764",
   "metadata": {},
   "outputs": [],
   "source": [
    "import pandas as pd\n",
    "import numpy as np"
   ]
  },
  {
   "cell_type": "code",
   "execution_count": 14,
   "id": "89918bab",
   "metadata": {},
   "outputs": [],
   "source": [
    "df = pd.read_excel(\"dataset/58606.23.06.2020.23.06.2025.1.0.0.cn.utf8.00000000.xls\")"
   ]
  },
  {
   "cell_type": "code",
   "execution_count": 15,
   "id": "006b46ac",
   "metadata": {},
   "outputs": [
    {
     "name": "stderr",
     "output_type": "stream",
     "text": [
      "C:\\Users\\Matwings\\AppData\\Local\\Temp\\ipykernel_11516\\3872173488.py:2: UserWarning: Parsing dates in %d.%m.%Y %H:%M format when dayfirst=False (the default) was specified. Pass `dayfirst=True` or specify a format to silence this warning.\n",
      "  df['datetime'] = pd.to_datetime(df['当地时间 莲塘镇'])\n"
     ]
    }
   ],
   "source": [
    "# 假设时间列名为 'datetime'，气温为 'T'\n",
    "df['datetime'] = pd.to_datetime(df['当地时间 莲塘镇'])\n",
    "df['hour'] = df['datetime'].dt.hour\n",
    "\n",
    "# 先计算每一天的最高温和最低温\n",
    "df['date'] = df['datetime'].dt.date\n",
    "for day, group in df.groupby('date'):\n",
    "    Tmax = group['T'].max()\n",
    "    Tmin = group['T'].min()\n",
    "    # 跳过当天全部缺失的情况\n",
    "    if pd.isna(Tmax) or pd.isna(Tmin):\n",
    "        continue\n",
    "    for idx, row in group.iterrows():\n",
    "        if pd.isna(row['T']):\n",
    "            hour = row['hour']\n",
    "            # 假设最低温在5点，最高温在14点\n",
    "            # 归一化到[0, pi]区间\n",
    "            x = (hour - 5) / (14 - 5)\n",
    "            x = min(max(x, 0), 1)\n",
    "            T_est = Tmin + (Tmax - Tmin) * np.sin(np.pi * x)\n",
    "            # 限制范围\n",
    "            T_est = min(max(T_est, Tmin), Tmax)\n",
    "            df.at[idx, 'T'] = T_est\n",
    "\n",
    "# 删除辅助列\n",
    "df.drop(columns=['hour', 'date'], inplace=True)"
   ]
  },
  {
   "cell_type": "code",
   "execution_count": 16,
   "id": "17bbfdf9",
   "metadata": {},
   "outputs": [],
   "source": [
    "df.drop(columns=['ff10','ff3','N',\"Cl\",\"Nh\",'Tg','sss',\"E'\",\"E\",'Cm','Ch',\"W1\",\"W2\",\"H\",\"当地时间 莲塘镇\"],axis=1, inplace=True)"
   ]
  },
  {
   "cell_type": "code",
   "execution_count": 17,
   "id": "16e023fc",
   "metadata": {},
   "outputs": [],
   "source": [
    "dd_map = {\n",
    "    \"从北方吹来的风\": 0,\n",
    "    \"从东北偏北方向吹来的风\": 1,\n",
    "    \"从东北方吹来的风\": 2,\n",
    "    \"从东北偏东方向吹来的风\": 3,\n",
    "    \"从东方吹来的风\": 4,\n",
    "    \"从东南偏东方向吹来的风\": 5,\n",
    "    \"从东南方吹来的风\": 6,\n",
    "    \"从东南偏南方向吹来的风\": 7,\n",
    "    \"从南方吹来的风\": 8,\n",
    "    \"从西南偏南方向吹来的风\": 9,\n",
    "    \"从西南方吹来的风\": 10,\n",
    "    \"从西南偏西方向吹来的风\": 11,\n",
    "    \"从西方吹来的风\": 12,\n",
    "    \"从西北偏西方向吹来的风\": 13,\n",
    "    \"从西北方吹来的风\": 14,\n",
    "    \"从西北偏北方向吹来的风\": 15,\n",
    "    \"无风\": 16\n",
    "}\n",
    "df[\"DD\"] = df[\"DD\"].map(dd_map).fillna(df[\"DD\"])\n"
   ]
  },
  {
   "cell_type": "code",
   "execution_count": 18,
   "id": "a1ba534e",
   "metadata": {},
   "outputs": [],
   "source": [
    "# 先替换“无降水”为0\n",
    "df[\"RRR\"] = df[\"RRR\"].replace(\"无降水\", 0)\n",
    "# 强制转换为数值类型，无法转换的变为NaN\n",
    "df[\"RRR\"] = pd.to_numeric(df[\"RRR\"], errors=\"coerce\")\n",
    "\n",
    "for row in df.index:\n",
    "    if pd.isna(df.loc[row, \"RRR\"]):\n",
    "        # 向下查找下一个非缺失值\n",
    "        next_row = row + 1\n",
    "        while next_row in df.index and pd.isna(df.loc[next_row, \"RRR\"]):\n",
    "            next_row += 1\n",
    "        prev_row = row - 1\n",
    "        while prev_row in df.index and pd.isna(df.loc[prev_row, \"RRR\"]):\n",
    "            prev_row -= 1\n",
    "        # 如果找到的前后都不是缺失值\n",
    "        if next_row in df.index and prev_row in df.index:\n",
    "            if df.loc[next_row, \"RRR\"] != 0 or df.loc[prev_row, \"RRR\"] != 0:\n",
    "                df.loc[row, \"RRR\"] = np.average([df.loc[next_row, \"RRR\"], df.loc[prev_row, \"RRR\"]])\n",
    "            elif df.loc[next_row, \"RRR\"] == 0 and df.loc[prev_row, \"RRR\"] == 0:\n",
    "                df.loc[row, \"RRR\"] = 0\n",
    "        # 只找到后面有数据\n",
    "        elif next_row in df.index:\n",
    "            df.loc[row, \"RRR\"] = df.loc[next_row, \"RRR\"]\n",
    "        # 只找到前面有数据\n",
    "        elif prev_row in df.index:\n",
    "            df.loc[row, \"RRR\"] = df.loc[prev_row, \"RRR\"]\n",
    "        # 前后都没有数据，直接填0\n",
    "        else:\n",
    "            df.loc[row, \"RRR\"] = 0"
   ]
  },
  {
   "cell_type": "code",
   "execution_count": null,
   "id": "4eb82869",
   "metadata": {},
   "outputs": [],
   "source": []
  }
 ],
 "metadata": {
  "kernelspec": {
   "display_name": "ai-base",
   "language": "python",
   "name": "python3"
  },
  "language_info": {
   "codemirror_mode": {
    "name": "ipython",
    "version": 3
   },
   "file_extension": ".py",
   "mimetype": "text/x-python",
   "name": "python",
   "nbconvert_exporter": "python",
   "pygments_lexer": "ipython3",
   "version": "3.10.18"
  }
 },
 "nbformat": 4,
 "nbformat_minor": 5
}
