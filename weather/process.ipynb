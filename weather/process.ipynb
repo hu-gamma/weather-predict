{
 "cells": [
  {
   "cell_type": "code",
   "execution_count": 13,
   "id": "970dd764",
   "metadata": {},
   "outputs": [],
   "source": [
    "import pandas as pd\n",
    "import numpy as np"
   ]
  },
  {
   "cell_type": "code",
   "execution_count": 14,
   "id": "89918bab",
   "metadata": {},
   "outputs": [],
   "source": [
    "df = pd.read_excel(\"dataset/58606.23.06.2020.23.06.2025.1.0.0.cn.utf8.00000000.xls\")"
   ]
  },
  {
   "cell_type": "code",
   "execution_count": 15,
   "id": "17bbfdf9",
   "metadata": {},
   "outputs": [],
   "source": [
    "df.drop(columns=['ff10','ff3','N',\"Cl\",\"Nh\",'Tg','sss',\"E'\",\"E\",'Cm','Ch',\"W1\",\"W2\",\"H\"],axis=1, inplace=True)"
   ]
  },
  {
   "cell_type": "code",
   "execution_count": 16,
   "id": "16e023fc",
   "metadata": {},
   "outputs": [],
   "source": [
    "dd_map = {\n",
    "    \"从北方吹来的风\": 0,\n",
    "    \"从东北偏北方向吹来的风\": 1,\n",
    "    \"从东北方吹来的风\": 2,\n",
    "    \"从东北偏东方向吹来的风\": 3,\n",
    "    \"从东方吹来的风\": 4,\n",
    "    \"从东南偏东方向吹来的风\": 5,\n",
    "    \"从东南方吹来的风\": 6,\n",
    "    \"从东南偏南方向吹来的风\": 7,\n",
    "    \"从南方吹来的风\": 8,\n",
    "    \"从西南偏南方向吹来的风\": 9,\n",
    "    \"从西南方吹来的风\": 10,\n",
    "    \"从西南偏西方向吹来的风\": 11,\n",
    "    \"从西方吹来的风\": 12,\n",
    "    \"从西北偏西方向吹来的风\": 13,\n",
    "    \"从西北方吹来的风\": 14,\n",
    "    \"从西北偏北方向吹来的风\": 15,\n",
    "    \"无风\": 16\n",
    "}\n",
    "df[\"DD\"] = df[\"DD\"].map(dd_map).fillna(df[\"DD\"])\n"
   ]
  },
  {
   "cell_type": "code",
   "execution_count": 18,
   "id": "a1ba534e",
   "metadata": {},
   "outputs": [],
   "source": [
    "# 先替换“无降水”为0\n",
    "df[\"RRR\"] = df[\"RRR\"].replace(\"无降水\", 0)\n",
    "# 强制转换为数值类型，无法转换的变为NaN\n",
    "df[\"RRR\"] = pd.to_numeric(df[\"RRR\"], errors=\"coerce\")\n",
    "\n",
    "for row in df.index:\n",
    "    if pd.isna(df.loc[row, \"RRR\"]):\n",
    "        # 向下查找下一个非缺失值\n",
    "        next_row = row + 1\n",
    "        while next_row in df.index and pd.isna(df.loc[next_row, \"RRR\"]):\n",
    "            next_row += 1\n",
    "        prev_row = row - 1\n",
    "        while prev_row in df.index and pd.isna(df.loc[prev_row, \"RRR\"]):\n",
    "            prev_row -= 1\n",
    "        # 如果找到的前后都不是缺失值\n",
    "        if next_row in df.index and prev_row in df.index:\n",
    "            if df.loc[next_row, \"RRR\"] != 0 or df.loc[prev_row, \"RRR\"] != 0:\n",
    "                df.loc[row, \"RRR\"] = np.average([df.loc[next_row, \"RRR\"], df.loc[prev_row, \"RRR\"]])\n",
    "            elif df.loc[next_row, \"RRR\"] == 0 and df.loc[prev_row, \"RRR\"] == 0:\n",
    "                df.loc[row, \"RRR\"] = 0\n",
    "        # 只找到后面有数据\n",
    "        elif next_row in df.index:\n",
    "            df.loc[row, \"RRR\"] = df.loc[next_row, \"RRR\"]\n",
    "        # 只找到前面有数据\n",
    "        elif prev_row in df.index:\n",
    "            df.loc[row, \"RRR\"] = df.loc[prev_row, \"RRR\"]\n",
    "        # 前后都没有数据，直接填0\n",
    "        else:\n",
    "            df.loc[row, \"RRR\"] = 0"
   ]
  },
  {
   "cell_type": "code",
   "execution_count": null,
   "id": "fd27c42d",
   "metadata": {},
   "outputs": [],
   "source": [
    "pooled_df = df.groupby(df.index // 5).mean(numeric_only=True).reset_index(drop=True)\n"
   ]
  },
  {
   "cell_type": "code",
   "execution_count": null,
   "id": "4eb82869",
   "metadata": {},
   "outputs": [],
   "source": []
  }
 ],
 "metadata": {
  "kernelspec": {
   "display_name": "ai-base",
   "language": "python",
   "name": "python3"
  },
  "language_info": {
   "codemirror_mode": {
    "name": "ipython",
    "version": 3
   },
   "file_extension": ".py",
   "mimetype": "text/x-python",
   "name": "python",
   "nbconvert_exporter": "python",
   "pygments_lexer": "ipython3",
   "version": "3.10.18"
  }
 },
 "nbformat": 4,
 "nbformat_minor": 5
}
