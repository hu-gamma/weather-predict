{
 "cells": [
  {
   "cell_type": "code",
   "execution_count": 37,
   "id": "970dd764",
   "metadata": {},
   "outputs": [],
   "source": [
    "import pandas as pd\n",
    "import numpy as np\n",
    "import matplotlib.pyplot as plt\n",
    "plt.rcParams['font.sans-serif'] = ['SimHei']  # 设置中文黑体\n",
    "plt.rcParams['axes.unicode_minus'] = False    # 正常显示负号\n",
    "%matplotlib inline"
   ]
  },
  {
   "cell_type": "code",
   "execution_count": 38,
   "id": "89918bab",
   "metadata": {},
   "outputs": [],
   "source": [
    "df = pd.read_excel(\"dataset/58606.23.06.2020.23.06.2025.1.0.0.cn.utf8.00000000.xls\")"
   ]
  },
  {
   "cell_type": "code",
   "execution_count": 39,
   "id": "006b46ac",
   "metadata": {},
   "outputs": [
    {
     "name": "stderr",
     "output_type": "stream",
     "text": [
      "C:\\Users\\Matwings\\AppData\\Local\\Temp\\ipykernel_20196\\3872173488.py:2: UserWarning: Parsing dates in %d.%m.%Y %H:%M format when dayfirst=False (the default) was specified. Pass `dayfirst=True` or specify a format to silence this warning.\n",
      "  df['datetime'] = pd.to_datetime(df['当地时间 莲塘镇'])\n"
     ]
    }
   ],
   "source": [
    "# 假设时间列名为 'datetime'，气温为 'T'\n",
    "df['datetime'] = pd.to_datetime(df['当地时间 莲塘镇'])\n",
    "df['hour'] = df['datetime'].dt.hour\n",
    "\n",
    "# 先计算每一天的最高温和最低温\n",
    "df['date'] = df['datetime'].dt.date\n",
    "for day, group in df.groupby('date'):\n",
    "    Tmax = group['T'].max()\n",
    "    Tmin = group['T'].min()\n",
    "    # 跳过当天全部缺失的情况\n",
    "    if pd.isna(Tmax) or pd.isna(Tmin):\n",
    "        continue\n",
    "    for idx, row in group.iterrows():\n",
    "        if pd.isna(row['T']):\n",
    "            hour = row['hour']\n",
    "            # 假设最低温在5点，最高温在14点\n",
    "            # 归一化到[0, pi]区间\n",
    "            x = (hour - 5) / (14 - 5)\n",
    "            x = min(max(x, 0), 1)\n",
    "            T_est = Tmin + (Tmax - Tmin) * np.sin(np.pi * x)\n",
    "            # 限制范围\n",
    "            T_est = min(max(T_est, Tmin), Tmax)\n",
    "            df.at[idx, 'T'] = T_est\n",
    "\n",
    "# 删除辅助列\n",
    "df.drop(columns=['hour', 'date'], inplace=True)"
   ]
  },
  {
   "cell_type": "code",
   "execution_count": 40,
   "id": "17bbfdf9",
   "metadata": {},
   "outputs": [],
   "source": [
    "df.drop(columns=['ff10','ff3','N',\"Cl\",\"Nh\",'Tg','sss',\"E'\",\"E\",'Cm','Ch',\"W1\",\"W2\",\"H\",\"当地时间 莲塘镇\"],axis=1, inplace=True)"
   ]
  },
  {
   "cell_type": "code",
   "execution_count": 41,
   "id": "16e023fc",
   "metadata": {},
   "outputs": [],
   "source": [
    "dd_map = {\n",
    "    \"从北方吹来的风\": 0,\n",
    "    \"从东北偏北方向吹来的风\": 1,\n",
    "    \"从东北方吹来的风\": 2,\n",
    "    \"从东北偏东方向吹来的风\": 3,\n",
    "    \"从东方吹来的风\": 4,\n",
    "    \"从东南偏东方向吹来的风\": 5,\n",
    "    \"从东南方吹来的风\": 6,\n",
    "    \"从东南偏南方向吹来的风\": 7,\n",
    "    \"从南方吹来的风\": 8,\n",
    "    \"从西南偏南方向吹来的风\": 9,\n",
    "    \"从西南方吹来的风\": 10,\n",
    "    \"从西南偏西方向吹来的风\": 11,\n",
    "    \"从西方吹来的风\": 12,\n",
    "    \"从西北偏西方向吹来的风\": 13,\n",
    "    \"从西北方吹来的风\": 14,\n",
    "    \"从西北偏北方向吹来的风\": 15,\n",
    "    \"无风\": 16\n",
    "}\n",
    "df[\"DD\"] = df[\"DD\"].map(dd_map).fillna(df[\"DD\"])\n"
   ]
  },
  {
   "cell_type": "code",
   "execution_count": 42,
   "id": "a1ba534e",
   "metadata": {},
   "outputs": [],
   "source": [
    "# 先替换“无降水”为0\n",
    "df[\"RRR\"] = df[\"RRR\"].replace(\"无降水\", 0)\n",
    "# 强制转换为数值类型，无法转换的变为NaN\n",
    "df[\"RRR\"] = pd.to_numeric(df[\"RRR\"], errors=\"coerce\")\n",
    "\n",
    "for row in df.index:\n",
    "    if pd.isna(df.loc[row, \"RRR\"]):\n",
    "        # 向下查找下一个非缺失值\n",
    "        next_row = row + 1\n",
    "        while next_row in df.index and pd.isna(df.loc[next_row, \"RRR\"]):\n",
    "            next_row += 1\n",
    "        prev_row = row - 1\n",
    "        while prev_row in df.index and pd.isna(df.loc[prev_row, \"RRR\"]):\n",
    "            prev_row -= 1\n",
    "        # 如果找到的前后都不是缺失值\n",
    "        if next_row in df.index and prev_row in df.index:\n",
    "            if df.loc[next_row, \"RRR\"] != 0 or df.loc[prev_row, \"RRR\"] != 0:\n",
    "                df.loc[row, \"RRR\"] = np.average([df.loc[next_row, \"RRR\"], df.loc[prev_row, \"RRR\"]])\n",
    "            elif df.loc[next_row, \"RRR\"] == 0 and df.loc[prev_row, \"RRR\"] == 0:\n",
    "                df.loc[row, \"RRR\"] = 0\n",
    "        # 只找到后面有数据\n",
    "        elif next_row in df.index:\n",
    "            df.loc[row, \"RRR\"] = df.loc[next_row, \"RRR\"]\n",
    "        # 只找到前面有数据\n",
    "        elif prev_row in df.index:\n",
    "            df.loc[row, \"RRR\"] = df.loc[prev_row, \"RRR\"]\n",
    "        # 前后都没有数据，直接填0\n",
    "        else:\n",
    "            df.loc[row, \"RRR\"] = 0"
   ]
  },
  {
   "cell_type": "code",
   "execution_count": 43,
   "id": "4eb82869",
   "metadata": {},
   "outputs": [],
   "source": [
    "for i in range(len(df) - 1):\n",
    "    # 填补P\n",
    "    if pd.isna(df.loc[i, 'P']) and not pd.isna(df.loc[i, 'Pa']) and not pd.isna(df.loc[i + 1, 'P']):\n",
    "        df.loc[i, 'P'] = df.loc[i + 1, 'P'] + df.loc[i, 'Pa']\n",
    "    # 填补Pa\n",
    "    if pd.isna(df.loc[i, 'Pa']) and not pd.isna(df.loc[i, 'P']) and not pd.isna(df.loc[i + 1, 'P']):\n",
    "        df.loc[i, 'Pa'] = df.loc[i, 'P'] - df.loc[i + 1, 'P']\n",
    "\n",
    "# 对剩余缺失值做线性插值\n",
    "df['P'] = df['P'].interpolate(method='linear', limit_direction='both')\n",
    "df['Pa'] = df['Pa'].interpolate(method='linear', limit_direction='both')"
   ]
  },
  {
   "cell_type": "code",
   "execution_count": 44,
   "id": "31031731",
   "metadata": {},
   "outputs": [],
   "source": [
    "# 对U列缺失值做线性插值，保持趋势\n",
    "df['U'] = df['U'].interpolate(method='linear', limit_direction='both')"
   ]
  },
  {
   "cell_type": "code",
   "execution_count": 45,
   "id": "986c5d6f",
   "metadata": {},
   "outputs": [],
   "source": [
    "for idx in df.index:\n",
    "    # 填补Tn\n",
    "    if pd.isna(df.loc[idx, 'Tn']):\n",
    "        next_rows = df.loc[idx:idx+5, 'T']  # 包含当前行及后5行\n",
    "        if next_rows.notna().any():\n",
    "            df.loc[idx, 'Tn'] = next_rows.min()\n",
    "    # 填补Tx\n",
    "    if pd.isna(df.loc[idx, 'Tx']):\n",
    "        next_rows = df.loc[idx:idx+5, 'T']\n",
    "        if next_rows.notna().any():\n",
    "            df.loc[idx, 'Tx'] = next_rows.max()"
   ]
  },
  {
   "cell_type": "code",
   "execution_count": 46,
   "id": "650e86fc",
   "metadata": {},
   "outputs": [
    {
     "name": "stderr",
     "output_type": "stream",
     "text": [
      "C:\\Users\\Matwings\\AppData\\Local\\Temp\\ipykernel_20196\\2895611042.py:3: FutureWarning: Downcasting behavior in `replace` is deprecated and will be removed in a future version. To retain the old behavior, explicitly call `result.infer_objects(copy=False)`. To opt-in to the future behavior, set `pd.set_option('future.no_silent_downcasting', True)`\n",
      "  df_plot['VV'] = df_plot['VV'].replace('低于 0.1', 0.05)\n"
     ]
    },
    {
     "data": {
      "image/png": "[encoded data removed]",
      "text/plain": [
       "<Figure size 1000x600 with 1 Axes>"
      ]
     },
     "metadata": {},
     "output_type": "display_data"
    }
   ],
   "source": [
    "# 只保留Td和VV都非缺失的数据\n",
    "df_plot = df[['Td', 'VV']].dropna()\n",
    "df_plot['VV'] = df_plot['VV'].replace('低于 0.1', 0.05)\n",
    "df_plot['Td'] = pd.to_numeric(df_plot['Td'], errors='coerce')\n",
    "df_plot['VV'] = pd.to_numeric(df_plot['VV'], errors='coerce')\n",
    "df_plot = df_plot.dropna()\n",
    "\n",
    "# 按Td分组求VV均值\n",
    "bar_data = df_plot.groupby('Td')['VV'].mean().reset_index()\n",
    "\n",
    "plt.figure(figsize=(10, 6))\n",
    "plt.bar(bar_data['Td'], bar_data['VV'], width=0.5)\n",
    "plt.xlabel('Td')\n",
    "plt.ylabel('VV')\n",
    "plt.title('Td与VV的均值柱状图')\n",
    "plt.grid(axis='y')\n",
    "plt.show()"
   ]
  },
  {
   "cell_type": "code",
   "execution_count": 48,
   "id": "d2a70a6b",
   "metadata": {},
   "outputs": [
    {
     "name": "stderr",
     "output_type": "stream",
     "text": [
      "C:\\Users\\Matwings\\AppData\\Local\\Temp\\ipykernel_20196\\3916737731.py:2: FutureWarning: Downcasting behavior in `replace` is deprecated and will be removed in a future version. To retain the old behavior, explicitly call `result.infer_objects(copy=False)`. To opt-in to the future behavior, set `pd.set_option('future.no_silent_downcasting', True)`\n",
      "  df['VV'] = df['VV'].replace('低于 0.1', 0.05)\n"
     ]
    }
   ],
   "source": [
    "# 1. 填补VV缺失值\n",
    "df['VV'] = df['VV'].replace('低于 0.1', 0.05)\n",
    "low_vv_value = df.loc[(df['Td'] >= -5) & (df['Td'] <= 10) & (df['VV'].notna()), 'VV'].mean()\n",
    "for idx in df.index:\n",
    "    if pd.isna(df.loc[idx, 'VV']) and pd.notna(df.loc[idx, 'Td']):\n",
    "        if -5 <= df.loc[idx, 'Td'] <= 10:\n",
    "            df.loc[idx, 'VV'] = low_vv_value\n",
    "# 剩余缺失用插值\n",
    "df['VV'] = df['VV'].interpolate(method='linear', limit_direction='both')\n",
    "\n",
    "# 2. 填补Td缺失值\n",
    "td_mean = df.loc[(df['VV'] < 1) & (df['Td'].notna()), 'Td'].mean()\n",
    "for idx in df.index:\n",
    "    if pd.isna(df.loc[idx, 'Td']) and pd.notna(df.loc[idx, 'VV']):\n",
    "        if df.loc[idx, 'VV'] < 1:\n",
    "            df.loc[idx, 'Td'] = td_mean\n",
    "# 剩余缺失用插值\n",
    "df['Td'] = df['Td'].interpolate(method='linear', limit_direction='both')"
   ]
  },
  {
   "cell_type": "code",
   "execution_count": 51,
   "id": "9e707f3e",
   "metadata": {},
   "outputs": [
    {
     "name": "stderr",
     "output_type": "stream",
     "text": [
      "C:\\Users\\Matwings\\AppData\\Local\\Temp\\ipykernel_20196\\4273503860.py:5: FutureWarning: Series.fillna with 'method' is deprecated and will raise in a future version. Use obj.ffill() or obj.bfill() instead.\n",
      "  df['tR'] = df.groupby('date')['tR'].transform(lambda x: x.fillna(method='ffill').fillna(method='bfill'))\n"
     ]
    }
   ],
   "source": [
    "# 提取日期\n",
    "df['date'] = df['datetime'].dt.date\n",
    "\n",
    "# 用同一天的tR非缺失值填补tR缺失\n",
    "df['tR'] = df.groupby('date')['tR'].transform(lambda x: x.fillna(method='ffill').fillna(method='bfill'))\n",
    "\n",
    "# 如果不再需要date辅助列，可以删除\n",
    "df.drop(columns=['date'], inplace=True)"
   ]
  }
 ],
 "metadata": {
  "kernelspec": {
   "display_name": "ai-base",
   "language": "python",
   "name": "python3"
  },
  "language_info": {
   "codemirror_mode": {
    "name": "ipython",
    "version": 3
   },
   "file_extension": ".py",
   "mimetype": "text/x-python",
   "name": "python",
   "nbconvert_exporter": "python",
   "pygments_lexer": "ipython3",
   "version": "3.10.18"
  }
 },
 "nbformat": 4,
 "nbformat_minor": 5
}
